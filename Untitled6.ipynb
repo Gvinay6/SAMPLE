{
  "nbformat": 4,
  "nbformat_minor": 0,
  "metadata": {
    "colab": {
      "provenance": [],
      "authorship_tag": "ABX9TyNBpinYzkHO9nphGEwPDJLq",
      "include_colab_link": true
    },
    "kernelspec": {
      "name": "python3",
      "display_name": "Python 3"
    },
    "language_info": {
      "name": "python"
    }
  },
  "cells": [
    {
      "cell_type": "markdown",
      "metadata": {
        "id": "view-in-github",
        "colab_type": "text"
      },
      "source": [
        "<a href=\"https://colab.research.google.com/github/Gvinay6/SAMPLE/blob/main/Untitled6.ipynb\" target=\"_parent\"><img src=\"https://colab.research.google.com/assets/colab-badge.svg\" alt=\"Open In Colab\"/></a>"
      ]
    },
    {
      "cell_type": "code",
      "execution_count": 1,
      "metadata": {
        "colab": {
          "base_uri": "https://localhost:8080/"
        },
        "id": "IE4CfTT8NMcB",
        "outputId": "013cb109-51c3-4944-f749-5dbafdc0ba9f"
      },
      "outputs": [
        {
          "name": "stdout",
          "output_type": "stream",
          "text": [
            "Enter your namevinay\n",
            "enter your age21\n"
          ]
        }
      ],
      "source": [
        "A = input(\"Enter your name\")\n",
        "B = int(input(\"enter your age\"))"
      ]
    },
    {
      "cell_type": "code",
      "source": [
        "if (B>18):\n",
        "    print(\"you are eligible to vote\")\n",
        "else:\n",
        "    print(\"you are not eligible to vote\")"
      ],
      "metadata": {
        "colab": {
          "base_uri": "https://localhost:8080/"
        },
        "id": "5q2onlEXNjEn",
        "outputId": "92860e3b-d687-4797-b469-f154c57413cd"
      },
      "execution_count": 4,
      "outputs": [
        {
          "output_type": "stream",
          "name": "stdout",
          "text": [
            "you are eligible to vote\n"
          ]
        }
      ]
    },
    {
      "cell_type": "code",
      "source": [
        "c = input(\"you have voter id(YES/NO):\")"
      ],
      "metadata": {
        "colab": {
          "base_uri": "https://localhost:8080/"
        },
        "id": "TAUBF07mPUug",
        "outputId": "5617f72e-84ba-4ad2-fc92-53dbaa177745"
      },
      "execution_count": 9,
      "outputs": [
        {
          "name": "stdout",
          "output_type": "stream",
          "text": [
            "you have voter id(YES/NO):NO\n"
          ]
        }
      ]
    },
    {
      "cell_type": "code",
      "source": [
        "if (c==\"YES\"):\n",
        "    print(\"Congratulations\")\n",
        "else:\n",
        "    na = input(\"enter your name\")\n",
        "    ad = input(\"enter your addres\")\n",
        "\n",
        "    print(\"EPIC NO : EAAPG7241N\")\n",
        "    print(\"NAME    : \"+na)\n",
        "    print(\"ADDRESS : \"+ad)"
      ],
      "metadata": {
        "colab": {
          "base_uri": "https://localhost:8080/"
        },
        "id": "9cXFeVmePo5j",
        "outputId": "de4a51d1-c66a-4fc4-87c2-403eda902c1d"
      },
      "execution_count": 17,
      "outputs": [
        {
          "output_type": "stream",
          "name": "stdout",
          "text": [
            "enter your namevinay\n",
            "enter your addreskakinada\n",
            "EPIC NO : EAAPG7241N\n",
            "NAME    : vinay\n",
            "ADDRESS : kakinada\n"
          ]
        }
      ]
    }
  ]
}